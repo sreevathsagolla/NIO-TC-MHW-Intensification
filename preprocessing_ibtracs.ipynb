{
 "cells": [
  {
   "cell_type": "code",
   "execution_count": 2,
   "metadata": {},
   "outputs": [],
   "source": [
    "import xarray as xr\n",
    "import pandas as pd"
   ]
  },
  {
   "cell_type": "markdown",
   "metadata": {},
   "source": [
    "### DATA FROM:\n",
    "https://www.ncei.noaa.gov/data/international-best-track-archive-for-climate-stewardship-ibtracs/v04r01/access/csv/"
   ]
  },
  {
   "cell_type": "code",
   "execution_count": 9,
   "metadata": {},
   "outputs": [],
   "source": [
    "df = pd.read_csv('./ibtracs_data/ibtracs.NI.list.v04r01.csv', low_memory=False)"
   ]
  },
  {
   "cell_type": "code",
   "execution_count": 10,
   "metadata": {},
   "outputs": [],
   "source": [
    "df = df.iloc[1:]\n",
    "df = df[(df['SUBBASIN'] == 'AS') & (df['NATURE'] == 'TS')]"
   ]
  },
  {
   "cell_type": "code",
   "execution_count": 11,
   "metadata": {},
   "outputs": [
    {
     "data": {
      "text/plain": [
       "(13322, 174)"
      ]
     },
     "execution_count": 11,
     "metadata": {},
     "output_type": "execute_result"
    }
   ],
   "source": [
    "df.shape"
   ]
  },
  {
   "cell_type": "code",
   "execution_count": 14,
   "metadata": {},
   "outputs": [],
   "source": [
    "# Convert the column to numeric, setting non-numeric values to NaN\n",
    "df['WMO_WIND'] = pd.to_numeric(df['WMO_WIND'], errors='coerce')\n",
    "\n",
    "# Drop rows where the 'WMO_WIND' has NaN values (i.e., non-integer values)\n",
    "df = df.dropna(subset=['WMO_WIND'])\n",
    "df.loc[:,'WMO_WIND'] = df['WMO_WIND'].astype(int)"
   ]
  },
  {
   "cell_type": "code",
   "execution_count": 30,
   "metadata": {},
   "outputs": [
    {
     "name": "stderr",
     "output_type": "stream",
     "text": [
      "/Users/sg13n23/miniconda3/lib/python3.11/site-packages/pandas/core/indexes/base.py:7588: FutureWarning: Dtype inference on a pandas object (Series, Index, ExtensionArray) is deprecated. The Index constructor will keep the original dtype in the future. Call `infer_objects` on the result to get the old behavior.\n",
      "  return Index(sequences[0], name=names)\n"
     ]
    }
   ],
   "source": [
    "df = df[['SID', 'ISO_TIME', 'LAT', 'LON', 'WMO_WIND', 'NEWDELHI_GRADE']]\n",
    "df.loc[:, 'ISO_TIME'] = pd.to_datetime(df['ISO_TIME'])\n",
    "\n",
    "df.set_index('ISO_TIME', inplace = True)"
   ]
  },
  {
   "cell_type": "code",
   "execution_count": 19,
   "metadata": {},
   "outputs": [],
   "source": [
    "for tc_id, tc_data in df.groupby('SID'):\n",
    "    pass"
   ]
  },
  {
   "cell_type": "code",
   "execution_count": 29,
   "metadata": {},
   "outputs": [
    {
     "data": {
      "text/html": [
       "<div>\n",
       "<style scoped>\n",
       "    .dataframe tbody tr th:only-of-type {\n",
       "        vertical-align: middle;\n",
       "    }\n",
       "\n",
       "    .dataframe tbody tr th {\n",
       "        vertical-align: top;\n",
       "    }\n",
       "\n",
       "    .dataframe thead th {\n",
       "        text-align: right;\n",
       "    }\n",
       "</style>\n",
       "<table border=\"1\" class=\"dataframe\">\n",
       "  <thead>\n",
       "    <tr style=\"text-align: right;\">\n",
       "      <th></th>\n",
       "      <th>SID</th>\n",
       "      <th>ISO_TIME</th>\n",
       "      <th>LAT</th>\n",
       "      <th>LON</th>\n",
       "      <th>WMO_WIND</th>\n",
       "      <th>NEWDELHI_GRADE</th>\n",
       "    </tr>\n",
       "  </thead>\n",
       "  <tbody>\n",
       "    <tr>\n",
       "      <th>45351</th>\n",
       "      <td>1982196N20069</td>\n",
       "      <td>1982-07-15 03:00:00</td>\n",
       "      <td>20.5</td>\n",
       "      <td>69.0</td>\n",
       "      <td>25.0</td>\n",
       "      <td>D</td>\n",
       "    </tr>\n",
       "    <tr>\n",
       "      <th>45354</th>\n",
       "      <td>1982196N20069</td>\n",
       "      <td>1982-07-15 12:00:00</td>\n",
       "      <td>21.0</td>\n",
       "      <td>68.0</td>\n",
       "      <td>25.0</td>\n",
       "      <td>D</td>\n",
       "    </tr>\n",
       "    <tr>\n",
       "      <th>45359</th>\n",
       "      <td>1982196N20069</td>\n",
       "      <td>1982-07-16 03:00:00</td>\n",
       "      <td>22.5</td>\n",
       "      <td>67.0</td>\n",
       "      <td>25.0</td>\n",
       "      <td>D</td>\n",
       "    </tr>\n",
       "    <tr>\n",
       "      <th>45475</th>\n",
       "      <td>1982274N13071</td>\n",
       "      <td>1982-10-01 03:00:00</td>\n",
       "      <td>13.5</td>\n",
       "      <td>71.0</td>\n",
       "      <td>25.0</td>\n",
       "      <td>D</td>\n",
       "    </tr>\n",
       "    <tr>\n",
       "      <th>45478</th>\n",
       "      <td>1982274N13071</td>\n",
       "      <td>1982-10-01 12:00:00</td>\n",
       "      <td>14.0</td>\n",
       "      <td>70.0</td>\n",
       "      <td>30.0</td>\n",
       "      <td>DD</td>\n",
       "    </tr>\n",
       "    <tr>\n",
       "      <th>...</th>\n",
       "      <td>...</td>\n",
       "      <td>...</td>\n",
       "      <td>...</td>\n",
       "      <td>...</td>\n",
       "      <td>...</td>\n",
       "      <td>...</td>\n",
       "    </tr>\n",
       "    <tr>\n",
       "      <th>61484</th>\n",
       "      <td>2022347N12074</td>\n",
       "      <td>2022-12-16 12:00:00</td>\n",
       "      <td>14.1</td>\n",
       "      <td>63.6</td>\n",
       "      <td>25.0</td>\n",
       "      <td>D</td>\n",
       "    </tr>\n",
       "    <tr>\n",
       "      <th>61486</th>\n",
       "      <td>2022347N12074</td>\n",
       "      <td>2022-12-16 18:00:00</td>\n",
       "      <td>14.1</td>\n",
       "      <td>62.9</td>\n",
       "      <td>25.0</td>\n",
       "      <td>D</td>\n",
       "    </tr>\n",
       "    <tr>\n",
       "      <th>61488</th>\n",
       "      <td>2022347N12074</td>\n",
       "      <td>2022-12-17 00:00:00</td>\n",
       "      <td>14.0</td>\n",
       "      <td>62.3</td>\n",
       "      <td>25.0</td>\n",
       "      <td>D</td>\n",
       "    </tr>\n",
       "    <tr>\n",
       "      <th>61489</th>\n",
       "      <td>2022347N12074</td>\n",
       "      <td>2022-12-17 03:00:00</td>\n",
       "      <td>14.0</td>\n",
       "      <td>62.0</td>\n",
       "      <td>25.0</td>\n",
       "      <td>D</td>\n",
       "    </tr>\n",
       "    <tr>\n",
       "      <th>61490</th>\n",
       "      <td>2022347N12074</td>\n",
       "      <td>2022-12-17 06:00:00</td>\n",
       "      <td>13.9</td>\n",
       "      <td>61.6</td>\n",
       "      <td>25.0</td>\n",
       "      <td>D</td>\n",
       "    </tr>\n",
       "  </tbody>\n",
       "</table>\n",
       "<p>1872 rows × 6 columns</p>\n",
       "</div>"
      ],
      "text/plain": [
       "                 SID             ISO_TIME   LAT   LON  WMO_WIND NEWDELHI_GRADE\n",
       "45351  1982196N20069  1982-07-15 03:00:00  20.5  69.0      25.0              D\n",
       "45354  1982196N20069  1982-07-15 12:00:00  21.0  68.0      25.0              D\n",
       "45359  1982196N20069  1982-07-16 03:00:00  22.5  67.0      25.0              D\n",
       "45475  1982274N13071  1982-10-01 03:00:00  13.5  71.0      25.0              D\n",
       "45478  1982274N13071  1982-10-01 12:00:00  14.0  70.0      30.0             DD\n",
       "...              ...                  ...   ...   ...       ...            ...\n",
       "61484  2022347N12074  2022-12-16 12:00:00  14.1  63.6      25.0              D\n",
       "61486  2022347N12074  2022-12-16 18:00:00  14.1  62.9      25.0              D\n",
       "61488  2022347N12074  2022-12-17 00:00:00  14.0  62.3      25.0              D\n",
       "61489  2022347N12074  2022-12-17 03:00:00  14.0  62.0      25.0              D\n",
       "61490  2022347N12074  2022-12-17 06:00:00  13.9  61.6      25.0              D\n",
       "\n",
       "[1872 rows x 6 columns]"
      ]
     },
     "execution_count": 29,
     "metadata": {},
     "output_type": "execute_result"
    }
   ],
   "source": [
    "df"
   ]
  },
  {
   "cell_type": "code",
   "execution_count": 38,
   "metadata": {},
   "outputs": [
    {
     "name": "stdout",
     "output_type": "stream",
     "text": [
      "72 systems out of 113 didn't mature into a CS\n"
     ]
    }
   ],
   "source": [
    "count = 0\n",
    "tcs_lmi_centred = []\n",
    "for tc_id, tc_data in df.groupby('SID'):\n",
    "    # The below if-statement is to check if any D or DD develops into a CS during it's lifetime.\n",
    "    if any('CS' in item for item in set(df[df['SID'] == tc_id]['NEWDELHI_GRADE'].values)) == True:\n",
    "        lmi_index = tc_data['SID'].idxmax()\n",
    "        tc_data['TimeRelativeToLMI'] = (tc_data.index - lmi_index).total_seconds() / (3600 * 24)\n",
    "        tcs_lmi_centred += [tc_data]\n",
    "    else:\n",
    "        count += 1\n",
    "\n",
    "print('{} systems out of {} didn\\'t mature into a CS'.format(count, len(list(df['SID'].unique()))))\n",
    "tcs_lmi_centred = pd.concat(tcs_lmi_centred)"
   ]
  },
  {
   "cell_type": "code",
   "execution_count": 40,
   "metadata": {},
   "outputs": [],
   "source": [
    "tcs_lmi_centred.to_csv('CYCLONE_BEST_TRACK_AS_FROM_IBTRACS.csv')"
   ]
  },
  {
   "cell_type": "code",
   "execution_count": null,
   "metadata": {},
   "outputs": [],
   "source": []
  }
 ],
 "metadata": {
  "kernelspec": {
   "display_name": "base",
   "language": "python",
   "name": "python3"
  },
  "language_info": {
   "codemirror_mode": {
    "name": "ipython",
    "version": 3
   },
   "file_extension": ".py",
   "mimetype": "text/x-python",
   "name": "python",
   "nbconvert_exporter": "python",
   "pygments_lexer": "ipython3",
   "version": "3.11.8"
  }
 },
 "nbformat": 4,
 "nbformat_minor": 2
}
