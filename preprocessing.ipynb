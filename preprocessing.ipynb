{
 "cells": [
  {
   "cell_type": "code",
   "execution_count": 1,
   "metadata": {},
   "outputs": [],
   "source": [
    "import glob\n",
    "import pandas as pd\n",
    "import numpy as np"
   ]
  },
  {
   "cell_type": "code",
   "execution_count": 2,
   "metadata": {},
   "outputs": [],
   "source": [
    "fnames = sorted(glob.glob('./data/*'))"
   ]
  },
  {
   "cell_type": "code",
   "execution_count": 3,
   "metadata": {},
   "outputs": [],
   "source": [
    "df = pd.DataFrame(columns = ['BASIN' , 'CY' , 'YYYYMMDDHH' , 'TECHNUM' , 'TECH' , 'TAU' , 'LatN/S' , 'LonE/W' , 'VMAX' , 'MSLP' ,\n",
    "'TY' , 'RAD' , 'WINDCODE' , 'RAD1' , 'RAD2' , 'RAD3' , 'RAD4' , 'RADP' , 'RRP' , 'MRD' , 'GUSTS' , 'EYE' ,\n",
    "'SUBREGION' , 'MAXSEAS' , 'INITIALS' , 'DIR' , 'SPEED' , 'STORMNAME' , 'DEPTH' , 'SEAS' ,\n",
    "'SEASCODE' , 'SEAS1' , 'SEAS2' , 'SEAS3' , 'SEAS4'])"
   ]
  },
  {
   "cell_type": "code",
   "execution_count": 4,
   "metadata": {},
   "outputs": [],
   "source": [
    "for f in fnames:\n",
    "    with open(f) as file:\n",
    "        lines = [line.rstrip() for line in file]\n",
    "    for x in lines:\n",
    "        lst = x.split(', ')[0:35]\n",
    "        new_row =  lst + [np.nan] * (35 - len(lst))\n",
    "        df.loc[len(df)] = new_row"
   ]
  },
  {
   "cell_type": "code",
   "execution_count": 5,
   "metadata": {},
   "outputs": [],
   "source": [
    "df['YYYYMMDDHH'] = pd.to_datetime(df['YYYYMMDDHH'], format = '%Y%m%d%H')\n",
    "df.set_index('YYYYMMDDHH', inplace = True)\n",
    "df.sort_index(inplace = True)"
   ]
  },
  {
   "cell_type": "code",
   "execution_count": 8,
   "metadata": {},
   "outputs": [],
   "source": [
    "##  SELECTING ONLY ARABIAN SEA AND ONLY SOME OF THE AVAILABLE COLUMNS\n",
    "df_select_columns = df[df['SUBREGION'] == '  A'][['CY', 'LatN/S', 'LonE/W', 'VMAX', 'MSLP', 'TY']]\n",
    "\n",
    "df_select_columns.to_csv('CYCLONE_BEST_TRACK_AS.csv')"
   ]
  }
 ],
 "metadata": {
  "kernelspec": {
   "display_name": "base",
   "language": "python",
   "name": "python3"
  },
  "language_info": {
   "codemirror_mode": {
    "name": "ipython",
    "version": 3
   },
   "file_extension": ".py",
   "mimetype": "text/x-python",
   "name": "python",
   "nbconvert_exporter": "python",
   "pygments_lexer": "ipython3",
   "version": "3.11.8"
  }
 },
 "nbformat": 4,
 "nbformat_minor": 2
}
